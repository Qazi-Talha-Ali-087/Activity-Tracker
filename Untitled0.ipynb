{
  "nbformat": 4,
  "nbformat_minor": 0,
  "metadata": {
    "colab": {
      "provenance": [],
      "gpuType": "T4"
    },
    "kernelspec": {
      "name": "python3",
      "display_name": "Python 3"
    },
    "language_info": {
      "name": "python"
    },
    "accelerator": "GPU"
  },
  "cells": [
    {
      "cell_type": "code",
      "execution_count": 2,
      "metadata": {
        "colab": {
          "base_uri": "https://localhost:8080/"
        },
        "id": "POsBCX50PmjF",
        "outputId": "a4a0b56e-d060-4256-b19d-419ca8af7ec5"
      },
      "outputs": [
        {
          "output_type": "stream",
          "name": "stdout",
          "text": [
            "<class 'pandas.core.frame.DataFrame'>\n",
            "RangeIndex: 263528 entries, 0 to 263527\n",
            "Data columns (total 8 columns):\n",
            " #   Column     Non-Null Count   Dtype \n",
            "---  ------     --------------   ----- \n",
            " 0   timestamp  263528 non-null  int64 \n",
            " 1   ax         263528 non-null  int64 \n",
            " 2   ay         263528 non-null  int64 \n",
            " 3   az         263528 non-null  int64 \n",
            " 4   gx         263528 non-null  int64 \n",
            " 5   gy         263528 non-null  int64 \n",
            " 6   gz         263528 non-null  int64 \n",
            " 7   label      263528 non-null  object\n",
            "dtypes: int64(7), object(1)\n",
            "memory usage: 16.1+ MB\n",
            "None\n",
            "       timestamp    ax     ay     az   gx    gy   gz    label\n",
            "0  1621358377297  6297 -10524  11565  260 -1675  485  Running\n",
            "1  1621358377307  6700 -10259  11712  320 -1650  471  Running\n",
            "2  1621358377316  7021 -10117  11837  366 -1681  480  Running\n",
            "3  1621358377326  7182 -10094  11793  379 -1751  580  Running\n",
            "4  1621358377336  7252 -10225  11628  345 -1772  679  Running\n"
          ]
        }
      ],
      "source": [
        "import pandas as pd\n",
        "\n",
        "# Load data\n",
        "file_paths = [\n",
        "    (\"imu_running_left_upto6.xlsx\", \"Running\"),\n",
        "    (\"imu_still_left_upto6.xlsx\", \"Still\"),\n",
        "    (\"imu_walking_left_upto6.xlsx\", \"Walking\")\n",
        "]\n",
        "\n",
        "data_frames = []\n",
        "for file_path, label in file_paths:\n",
        "    df = pd.read_excel(file_path)\n",
        "    df['label'] = label\n",
        "    data_frames.append(df)\n",
        "\n",
        "# Combine all data into a single DataFrame\n",
        "data = pd.concat(data_frames, ignore_index=True)\n",
        "\n",
        "# Display basic information about the dataset\n",
        "print(data.info())\n",
        "print(data.head())\n"
      ]
    },
    {
      "cell_type": "code",
      "source": [
        "# Check for missing values\n",
        "print(data.isnull().sum())\n",
        "\n",
        "# If there are missing values, we need to handle them (e.g., by filling or dropping)\n",
        "data.dropna(inplace=True)\n",
        "\n",
        "# Convert the timestamp to a datetime object (if not already in that format)\n",
        "data['timestamp'] = pd.to_datetime(data['timestamp'])\n",
        "\n",
        "# Ensure that label is a categorical type\n",
        "data['label'] = data['label'].astype('category')\n",
        "\n",
        "# Display the cleaned data\n",
        "print(data.info())\n",
        "print(data.head())"
      ],
      "metadata": {
        "colab": {
          "base_uri": "https://localhost:8080/"
        },
        "id": "kAsFfahtQJVV",
        "outputId": "6da139dc-c516-406f-db4d-56678c1f1881"
      },
      "execution_count": 3,
      "outputs": [
        {
          "output_type": "stream",
          "name": "stdout",
          "text": [
            "timestamp    0\n",
            "ax           0\n",
            "ay           0\n",
            "az           0\n",
            "gx           0\n",
            "gy           0\n",
            "gz           0\n",
            "label        0\n",
            "dtype: int64\n",
            "<class 'pandas.core.frame.DataFrame'>\n",
            "RangeIndex: 263528 entries, 0 to 263527\n",
            "Data columns (total 8 columns):\n",
            " #   Column     Non-Null Count   Dtype         \n",
            "---  ------     --------------   -----         \n",
            " 0   timestamp  263528 non-null  datetime64[ns]\n",
            " 1   ax         263528 non-null  int64         \n",
            " 2   ay         263528 non-null  int64         \n",
            " 3   az         263528 non-null  int64         \n",
            " 4   gx         263528 non-null  int64         \n",
            " 5   gy         263528 non-null  int64         \n",
            " 6   gz         263528 non-null  int64         \n",
            " 7   label      263528 non-null  category      \n",
            "dtypes: category(1), datetime64[ns](1), int64(6)\n",
            "memory usage: 14.3 MB\n",
            "None\n",
            "                      timestamp    ax     ay     az   gx    gy   gz    label\n",
            "0 1970-01-01 00:27:01.358377297  6297 -10524  11565  260 -1675  485  Running\n",
            "1 1970-01-01 00:27:01.358377307  6700 -10259  11712  320 -1650  471  Running\n",
            "2 1970-01-01 00:27:01.358377316  7021 -10117  11837  366 -1681  480  Running\n",
            "3 1970-01-01 00:27:01.358377326  7182 -10094  11793  379 -1751  580  Running\n",
            "4 1970-01-01 00:27:01.358377336  7252 -10225  11628  345 -1772  679  Running\n"
          ]
        }
      ]
    },
    {
      "cell_type": "code",
      "source": [
        "from sklearn.model_selection import train_test_split\n",
        "from sklearn.preprocessing import StandardScaler\n",
        "from sklearn.metrics import classification_report\n",
        "from sklearn.ensemble import RandomForestClassifier\n",
        "from sklearn.svm import SVC\n",
        "from sklearn.neighbors import KNeighborsClassifier\n",
        "\n",
        "# Define features and labels\n",
        "X = data[['ax', 'ay', 'az', 'gx', 'gy', 'gz']]\n",
        "y = data['label']\n",
        "\n",
        "# Split the data\n",
        "X_train, X_test, y_train, y_test = train_test_split(X, y, test_size=0.3, random_state=42, stratify=y)\n",
        "\n",
        "# Standardize the features\n",
        "scaler = StandardScaler()\n",
        "X_train_scaled = scaler.fit_transform(X_train)\n",
        "X_test_scaled = scaler.transform(X_test)\n",
        "\n",
        "# Train and evaluate different models\n",
        "\n",
        "# Random Forest\n",
        "rf = RandomForestClassifier(random_state=42)\n",
        "rf.fit(X_train_scaled, y_train)\n",
        "rf_pred = rf.predict(X_test_scaled)\n",
        "print(\"Random Forest Classification Report:\")\n",
        "print(classification_report(y_test, rf_pred))\n",
        "\n",
        "# Support Vector Machine\n",
        "svm = SVC(random_state=42)\n",
        "svm.fit(X_train_scaled, y_train)\n",
        "svm_pred = svm.predict(X_test_scaled)\n",
        "print(\"SVM Classification Report:\")\n",
        "print(classification_report(y_test, svm_pred))\n",
        "\n",
        "# K-Nearest Neighbors\n",
        "knn = KNeighborsClassifier()\n",
        "knn.fit(X_train_scaled, y_train)\n",
        "knn_pred = knn.predict(X_test_scaled)\n",
        "print(\"KNN Classification Report:\")\n",
        "print(classification_report(y_test, knn_pred))\n"
      ],
      "metadata": {
        "colab": {
          "base_uri": "https://localhost:8080/"
        },
        "id": "PPYQI2Q5QJdb",
        "outputId": "df5eb865-d23b-46b8-eb40-c27b34308aae"
      },
      "execution_count": null,
      "outputs": [
        {
          "output_type": "stream",
          "name": "stdout",
          "text": [
            "Random Forest Classification Report:\n",
            "              precision    recall  f1-score   support\n",
            "\n",
            "     Running       0.98      0.95      0.97     26344\n",
            "       Still       1.00      1.00      1.00     26364\n",
            "     Walking       0.95      0.98      0.97     26351\n",
            "\n",
            "    accuracy                           0.98     79059\n",
            "   macro avg       0.98      0.98      0.98     79059\n",
            "weighted avg       0.98      0.98      0.98     79059\n",
            "\n"
          ]
        }
      ]
    },
    {
      "cell_type": "code",
      "source": [],
      "metadata": {
        "id": "1l0HE6LOQJgy"
      },
      "execution_count": null,
      "outputs": []
    }
  ]
}